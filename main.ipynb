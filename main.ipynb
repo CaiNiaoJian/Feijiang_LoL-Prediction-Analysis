{
 "cells": [
  {
   "cell_type": "code",
   "execution_count": 27,
   "metadata": {
    "collapsed": false,
    "execution": {
     "iopub.execute_input": "2024-10-25T14:15:04.926284Z",
     "iopub.status.busy": "2024-10-25T14:15:04.925606Z",
     "iopub.status.idle": "2024-10-25T14:15:05.243859Z",
     "shell.execute_reply": "2024-10-25T14:15:05.242520Z",
     "shell.execute_reply.started": "2024-10-25T14:15:04.926250Z"
    },
    "jupyter": {
     "outputs_hidden": false
    },
    "scrolled": true
   },
   "outputs": [
    {
     "name": "stdout",
     "output_type": "stream",
     "text": [
      "data300332\r\n"
     ]
    }
   ],
   "source": [
    "# 查看当前挂载的数据集目录, 该目录下的变更重启环境后会自动还原\n",
    "# View dataset directory. \n",
    "# This directory will be recovered automatically after resetting environment. \n",
    "!ls /home/aistudio/data"
   ]
  },
  {
   "cell_type": "code",
   "execution_count": 28,
   "metadata": {
    "collapsed": false,
    "execution": {
     "iopub.execute_input": "2024-10-25T14:15:05.246942Z",
     "iopub.status.busy": "2024-10-25T14:15:05.246340Z",
     "iopub.status.idle": "2024-10-25T14:15:05.584435Z",
     "shell.execute_reply": "2024-10-25T14:15:05.583160Z",
     "shell.execute_reply.started": "2024-10-25T14:15:05.246891Z"
    },
    "jupyter": {
     "outputs_hidden": false
    },
    "scrolled": true
   },
   "outputs": [
    {
     "name": "stdout",
     "output_type": "stream",
     "text": [
      "data  external-libraries  main.ipynb  work\r\n"
     ]
    }
   ],
   "source": [
    "# 查看工作区文件，该目录下除data目录外的变更将会持久保存。请及时清理不必要的文件，避免加载过慢。\n",
    "# View personal work directory. \n",
    "# All changes, except /data, under this directory will be kept even after reset. \n",
    "# Please clean unnecessary files in time to speed up environment loading. \n",
    "!ls /home/aistudio"
   ]
  },
  {
   "cell_type": "code",
   "execution_count": 29,
   "metadata": {
    "collapsed": false,
    "execution": {
     "iopub.execute_input": "2024-10-25T14:15:05.586513Z",
     "iopub.status.busy": "2024-10-25T14:15:05.585873Z",
     "iopub.status.idle": "2024-10-25T14:15:09.054511Z",
     "shell.execute_reply": "2024-10-25T14:15:09.053277Z",
     "shell.execute_reply.started": "2024-10-25T14:15:05.586478Z"
    },
    "jupyter": {
     "outputs_hidden": false
    },
    "scrolled": true
   },
   "outputs": [
    {
     "name": "stdout",
     "output_type": "stream",
     "text": [
      "mkdir: cannot create directory '/home/aistudio/external-libraries': File exists\r\n",
      "Looking in indexes: https://mirror.baidu.com/pypi/simple/, https://mirrors.aliyun.com/pypi/simple/\r\n",
      "Collecting beautifulsoup4\r\n",
      "  Using cached https://mirrors.aliyun.com/pypi/packages/b1/fe/e8c672695b37eecc5cbf43e1d0638d88d66ba3a44c4d321c796f4e59167f/beautifulsoup4-4.12.3-py3-none-any.whl (147 kB)\r\n",
      "\u001b[33mWARNING: Skipping page https://mirror.baidu.com/pypi/simple/soupsieve/ because the GET request got Content-Type: application/octet-stream. The only supported Content-Types are application/vnd.pypi.simple.v1+json, application/vnd.pypi.simple.v1+html, and text/html\u001b[0m\u001b[33m\r\n",
      "\u001b[0mCollecting soupsieve>1.2 (from beautifulsoup4)\r\n",
      "  Using cached https://mirrors.aliyun.com/pypi/packages/d1/c2/fe97d779f3ef3b15f05c94a2f1e3d21732574ed441687474db9d342a7315/soupsieve-2.6-py3-none-any.whl (36 kB)\r\n",
      "Installing collected packages: soupsieve, beautifulsoup4\r\n",
      "Successfully installed beautifulsoup4-4.12.3 soupsieve-2.6\r\n",
      "\u001b[33mWARNING: Target directory /home/aistudio/external-libraries/soupsieve-2.6.dist-info already exists. Specify --upgrade to force replacement.\u001b[0m\u001b[33m\r\n",
      "\u001b[0m\u001b[33mWARNING: Target directory /home/aistudio/external-libraries/soupsieve already exists. Specify --upgrade to force replacement.\u001b[0m\u001b[33m\r\n",
      "\u001b[0m\u001b[33mWARNING: Target directory /home/aistudio/external-libraries/beautifulsoup4-4.12.3.dist-info already exists. Specify --upgrade to force replacement.\u001b[0m\u001b[33m\r\n",
      "\u001b[0m\u001b[33mWARNING: Target directory /home/aistudio/external-libraries/bs4 already exists. Specify --upgrade to force replacement.\u001b[0m\u001b[33m\r\n",
      "\u001b[0m"
     ]
    }
   ],
   "source": [
    "# 如果需要进行持久化安装, 需要使用持久化路径, 如下方代码示例:\n",
    "# If a persistence installation is required, \n",
    "# you need to use the persistence path as the following: \n",
    "!mkdir /home/aistudio/external-libraries\n",
    "!pip install beautifulsoup4 -t /home/aistudio/external-libraries"
   ]
  },
  {
   "cell_type": "code",
   "execution_count": 30,
   "metadata": {
    "collapsed": false,
    "execution": {
     "iopub.execute_input": "2024-10-25T14:15:09.056526Z",
     "iopub.status.busy": "2024-10-25T14:15:09.056049Z",
     "iopub.status.idle": "2024-10-25T14:15:09.061737Z",
     "shell.execute_reply": "2024-10-25T14:15:09.060771Z",
     "shell.execute_reply.started": "2024-10-25T14:15:09.056494Z"
    },
    "jupyter": {
     "outputs_hidden": false
    },
    "scrolled": true
   },
   "outputs": [],
   "source": [
    "# 同时添加如下代码, 这样每次环境(kernel)启动的时候只要运行下方代码即可: \n",
    "# Also add the following code, \n",
    "# so that every time the environment (kernel) starts, \n",
    "# just run the following code: \n",
    "import sys \n",
    "sys.path.append('/home/aistudio/external-libraries')"
   ]
  },
  {
   "cell_type": "code",
   "execution_count": 35,
   "metadata": {
    "execution": {
     "iopub.execute_input": "2024-10-25T14:21:31.744339Z",
     "iopub.status.busy": "2024-10-25T14:21:31.742717Z",
     "iopub.status.idle": "2024-10-25T14:22:12.068997Z",
     "shell.execute_reply": "2024-10-25T14:22:12.067966Z",
     "shell.execute_reply.started": "2024-10-25T14:21:31.744280Z"
    },
    "scrolled": true,
    "tags": []
   },
   "outputs": [
    {
     "name": "stdout",
     "output_type": "stream",
     "text": [
      "Epoch [1/20], Loss: 0.4226\r\n",
      "Epoch [2/20], Loss: 0.2804\r\n",
      "Epoch [3/20], Loss: 0.1960\r\n",
      "Epoch [4/20], Loss: 0.2788\r\n",
      "Epoch [5/20], Loss: 0.2466\r\n",
      "Epoch [6/20], Loss: 0.3173\r\n",
      "Epoch [7/20], Loss: 0.2307\r\n",
      "Epoch [8/20], Loss: 0.5288\r\n",
      "Epoch [9/20], Loss: 0.2167\r\n",
      "Epoch [10/20], Loss: 0.2106\r\n",
      "Epoch [11/20], Loss: 0.2332\r\n",
      "Epoch [12/20], Loss: 0.4681\r\n",
      "Epoch [13/20], Loss: 0.2490\r\n",
      "Epoch [14/20], Loss: 0.2986\r\n",
      "Epoch [15/20], Loss: 0.1739\r\n",
      "Epoch [16/20], Loss: 0.2259\r\n",
      "Epoch [17/20], Loss: 0.4682\r\n",
      "Epoch [18/20], Loss: 0.5396\r\n",
      "Epoch [19/20], Loss: 0.3724\r\n",
      "Epoch [20/20], Loss: 0.3568\r\n"
     ]
    }
   ],
   "source": [
    "import paddle\r\n",
    "import paddle.nn as nn\r\n",
    "import paddle.optimizer as optim\r\n",
    "import pandas as pd\r\n",
    "from sklearn.model_selection import train_test_split\r\n",
    "from sklearn.preprocessing import StandardScaler\r\n",
    "from sklearn.metrics import accuracy_score\r\n",
    "from paddle.io import DataLoader, Dataset\r\n",
    "\r\n",
    "# 自定义数据集类\r\n",
    "class LOLDataset(Dataset):\r\n",
    "    def __init__(self, X, y):\r\n",
    "        self.X = X\r\n",
    "        self.y = y\r\n",
    "\r\n",
    "    def __getitem__(self, index):\r\n",
    "        return self.X[index], self.y[index]\r\n",
    "\r\n",
    "    def __len__(self):\r\n",
    "        return len(self.X)\r\n",
    "\r\n",
    "# 加载训练数据\r\n",
    "train_data = pd.read_csv('data/data300332/train.csv')\r\n",
    "\r\n",
    "# 训练集\r\n",
    "X_train = train_data.drop(['id', 'win'], axis=1)\r\n",
    "y_train = train_data['win']\r\n",
    "\r\n",
    "# 标准化处理\r\n",
    "scaler = StandardScaler()\r\n",
    "X_train = scaler.fit_transform(X_train)\r\n",
    "\r\n",
    "# 将数据转换为 float32 类型\r\n",
    "X_train = X_train.astype('float32')\r\n",
    "y_train = y_train.values.astype('float32')\r\n",
    "\r\n",
    "# 创建数据集和数据加载器\r\n",
    "train_dataset = LOLDataset(X_train, y_train)\r\n",
    "train_loader = DataLoader(train_dataset, batch_size=256, shuffle=True)\r\n",
    "\r\n",
    "class SimpleNN(nn.Layer):\r\n",
    "    def __init__(self, input_size):\r\n",
    "        super(SimpleNN, self).__init__()\r\n",
    "        self.fc1 = nn.Linear(input_size, 64)\r\n",
    "        self.fc2 = nn.Linear(64, 32)\r\n",
    "        self.fc3 = nn.Linear(32, 1)\r\n",
    "        self.relu = nn.ReLU()\r\n",
    "        self.sigmoid = nn.Sigmoid()\r\n",
    "\r\n",
    "    def forward(self, x):\r\n",
    "        x = self.relu(self.fc1(x))\r\n",
    "        x = self.relu(self.fc2(x))\r\n",
    "        x = self.sigmoid(self.fc3(x))\r\n",
    "        return x\r\n",
    "\r\n",
    "# 初始化模型\r\n",
    "input_size = X_train.shape[1]\r\n",
    "model = SimpleNN(input_size)\r\n",
    "\r\n",
    "criterion = nn.BCELoss()\r\n",
    "optimizer = optim.Adam(learning_rate=0.001, parameters=model.parameters())\r\n",
    "\r\n",
    "# 训练模型\r\n",
    "num_epochs = 20\r\n",
    "for epoch in range(num_epochs):\r\n",
    "    model.train()\r\n",
    "    for batch_idx, (data, target) in enumerate(train_loader):\r\n",
    "        # 前向传播\r\n",
    "        outputs = model(data)\r\n",
    "        loss = criterion(outputs, target.reshape([-1, 1]))\r\n",
    "\r\n",
    "        # 反向传播和优化\r\n",
    "        optimizer.clear_grad()\r\n",
    "        loss.backward()\r\n",
    "        optimizer.step()\r\n",
    "\r\n",
    "    if (epoch + 1) % 1 == 0:\r\n",
    "        print(f'Epoch [{epoch + 1}/{num_epochs}], Loss: {loss.item():.4f}')\r\n",
    "\r\n",
    "# 加载测试数据\r\n",
    "test_data = pd.read_csv('data/data300332/test.csv')\r\n",
    "\r\n",
    "# 测试集\r\n",
    "X_test = test_data.drop(['id'], axis=1)\r\n",
    "\r\n",
    "# 标准化处理\r\n",
    "X_test = scaler.transform(X_test)\r\n",
    "\r\n",
    "# 将数据转换为 float32 类型\r\n",
    "X_test = X_test.astype('float32')\r\n",
    "\r\n",
    "# 将测试数据转换为PaddlePaddle张量\r\n",
    "X_test = paddle.to_tensor(X_test, dtype='float32')\r\n",
    "\r\n",
    "# 预测\r\n",
    "model.eval()\r\n",
    "y_pred = model(X_test)\r\n",
    "y_pred = (y_pred > 0.5).astype('int32')\r\n",
    "\r\n",
    "# 将预测结果保存到测试数据中\r\n",
    "test_data['win'] = y_pred.numpy().flatten()\r\n",
    "\r\n",
    "# 保存预测结果\r\n",
    "test_data[['win']].to_csv('submission.csv', index=False)"
   ]
  },
  {
   "cell_type": "markdown",
   "metadata": {},
   "source": [
    "请点击[此处](https://ai.baidu.com/docs#/AIStudio_Project_Notebook/a38e5576)查看本环境基本用法.  <br>\n",
    "Please click [here ](https://ai.baidu.com/docs#/AIStudio_Project_Notebook/a38e5576) for more detailed instructions. "
   ]
  }
 ],
 "metadata": {
  "kernelspec": {
   "display_name": "Python 3",
   "language": "python",
   "name": "py35-paddle1.2.0"
  },
  "language_info": {
   "codemirror_mode": {
    "name": "ipython",
    "version": 3
   },
   "file_extension": ".py",
   "mimetype": "text/x-python",
   "name": "python",
   "nbconvert_exporter": "python",
   "pygments_lexer": "ipython3",
   "version": "3.10.10"
  }
 },
 "nbformat": 4,
 "nbformat_minor": 4
}
